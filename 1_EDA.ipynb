{
 "cells": [
  {
   "cell_type": "markdown",
   "metadata": {},
   "source": [
    "# Deep Learning NLP Recommender Challenge - EDA"
   ]
  },
  {
   "cell_type": "markdown",
   "metadata": {},
   "source": [
    "Amanda Cheney  \n",
    "Part 1 of 2  \n",
    "March 1, 2021"
   ]
  },
  {
   "cell_type": "markdown",
   "metadata": {},
   "source": [
    "#### Objective  \n",
    "Construct a deep learning network using NLP techniques that is able to predict whether a user will click on an unseen news article. The model should take as input user-news items and output a binary variable (1/0).   "
   ]
  },
  {
   "cell_type": "markdown",
   "metadata": {},
   "source": [
    "#### This Notebook  \n",
    "Initial EDA and data assembly for NLP analysis in following notebook."
   ]
  },
  {
   "cell_type": "markdown",
   "metadata": {},
   "source": [
    "### Imports"
   ]
  },
  {
   "cell_type": "code",
   "execution_count": 37,
   "metadata": {},
   "outputs": [],
   "source": [
    "import pandas as pd\n",
    "import numpy as np\n",
    "import matplotlib.pyplot as plt\n",
    "import pickle"
   ]
  },
  {
   "cell_type": "markdown",
   "metadata": {},
   "source": [
    "### Load Data"
   ]
  },
  {
   "cell_type": "code",
   "execution_count": 2,
   "metadata": {},
   "outputs": [],
   "source": [
    "news = pd.read_csv(\"https://inspire-data-challenge.s3.amazonaws.com/news_text.csv\", sep='\\t')"
   ]
  },
  {
   "cell_type": "code",
   "execution_count": 3,
   "metadata": {},
   "outputs": [],
   "source": [
    "users = pd.read_csv(\"https://inspire-data-challenge.s3.amazonaws.com/user_news_clicks.csv\")"
   ]
  },
  {
   "cell_type": "markdown",
   "metadata": {},
   "source": [
    "### EDA  \n",
    "First let's take a look at the news titles and abstracts before turning to user-news interactions and eventually merging the two for our final dataset. "
   ]
  },
  {
   "cell_type": "code",
   "execution_count": 4,
   "metadata": {},
   "outputs": [
    {
     "name": "stdout",
     "output_type": "stream",
     "text": [
      "<class 'pandas.core.frame.DataFrame'>\n",
      "RangeIndex: 51282 entries, 0 to 51281\n",
      "Data columns (total 3 columns):\n",
      " #   Column    Non-Null Count  Dtype \n",
      "---  ------    --------------  ----- \n",
      " 0   news_id   51282 non-null  object\n",
      " 1   title     51282 non-null  object\n",
      " 2   abstract  48616 non-null  object\n",
      "dtypes: object(3)\n",
      "memory usage: 1.2+ MB\n"
     ]
    }
   ],
   "source": [
    "news.info()"
   ]
  },
  {
   "cell_type": "markdown",
   "metadata": {},
   "source": [
    "Note that 2666 or 5% of the news items in this data set are missing abstracts."
   ]
  },
  {
   "cell_type": "code",
   "execution_count": 5,
   "metadata": {},
   "outputs": [
    {
     "data": {
      "text/html": [
       "<div>\n",
       "<style scoped>\n",
       "    .dataframe tbody tr th:only-of-type {\n",
       "        vertical-align: middle;\n",
       "    }\n",
       "\n",
       "    .dataframe tbody tr th {\n",
       "        vertical-align: top;\n",
       "    }\n",
       "\n",
       "    .dataframe thead th {\n",
       "        text-align: right;\n",
       "    }\n",
       "</style>\n",
       "<table border=\"1\" class=\"dataframe\">\n",
       "  <thead>\n",
       "    <tr style=\"text-align: right;\">\n",
       "      <th></th>\n",
       "      <th>news_id</th>\n",
       "      <th>title</th>\n",
       "      <th>abstract</th>\n",
       "    </tr>\n",
       "  </thead>\n",
       "  <tbody>\n",
       "    <tr>\n",
       "      <th>0</th>\n",
       "      <td>N55528</td>\n",
       "      <td>The Brands Queen Elizabeth, Prince Charles, an...</td>\n",
       "      <td>Shop the notebooks, jackets, and more that the...</td>\n",
       "    </tr>\n",
       "    <tr>\n",
       "      <th>1</th>\n",
       "      <td>N19639</td>\n",
       "      <td>50 Worst Habits For Belly Fat</td>\n",
       "      <td>These seemingly harmless habits are holding yo...</td>\n",
       "    </tr>\n",
       "    <tr>\n",
       "      <th>2</th>\n",
       "      <td>N61837</td>\n",
       "      <td>The Cost of Trump's Aid Freeze in the Trenches...</td>\n",
       "      <td>Lt. Ivan Molchanets peeked over a parapet of s...</td>\n",
       "    </tr>\n",
       "    <tr>\n",
       "      <th>3</th>\n",
       "      <td>N53526</td>\n",
       "      <td>I Was An NBA Wife. Here's How It Affected My M...</td>\n",
       "      <td>I felt like I was a fraud, and being an NBA wi...</td>\n",
       "    </tr>\n",
       "    <tr>\n",
       "      <th>4</th>\n",
       "      <td>N38324</td>\n",
       "      <td>How to Get Rid of Skin Tags, According to a De...</td>\n",
       "      <td>They seem harmless, but there's a very good re...</td>\n",
       "    </tr>\n",
       "  </tbody>\n",
       "</table>\n",
       "</div>"
      ],
      "text/plain": [
       "  news_id                                              title  \\\n",
       "0  N55528  The Brands Queen Elizabeth, Prince Charles, an...   \n",
       "1  N19639                      50 Worst Habits For Belly Fat   \n",
       "2  N61837  The Cost of Trump's Aid Freeze in the Trenches...   \n",
       "3  N53526  I Was An NBA Wife. Here's How It Affected My M...   \n",
       "4  N38324  How to Get Rid of Skin Tags, According to a De...   \n",
       "\n",
       "                                            abstract  \n",
       "0  Shop the notebooks, jackets, and more that the...  \n",
       "1  These seemingly harmless habits are holding yo...  \n",
       "2  Lt. Ivan Molchanets peeked over a parapet of s...  \n",
       "3  I felt like I was a fraud, and being an NBA wi...  \n",
       "4  They seem harmless, but there's a very good re...  "
      ]
     },
     "execution_count": 5,
     "metadata": {},
     "output_type": "execute_result"
    }
   ],
   "source": [
    "news.head()"
   ]
  },
  {
   "cell_type": "markdown",
   "metadata": {},
   "source": [
    "Let's have a look at a couple of sample items."
   ]
  },
  {
   "cell_type": "code",
   "execution_count": 6,
   "metadata": {},
   "outputs": [
    {
     "name": "stdout",
     "output_type": "stream",
     "text": [
      "I Was An NBA Wife. Here's How It Affected My Mental Health.\n",
      "I felt like I was a fraud, and being an NBA wife didn't help that. In fact, it nearly destroyed me.\n"
     ]
    }
   ],
   "source": [
    "print(news.iloc[3]['title'])\n",
    "print(news.iloc[3]['abstract'])"
   ]
  },
  {
   "cell_type": "code",
   "execution_count": 7,
   "metadata": {},
   "outputs": [
    {
     "name": "stdout",
     "output_type": "stream",
     "text": [
      "Best Sports Car Deals for October\n",
      "nan\n"
     ]
    }
   ],
   "source": [
    "print(news.iloc[-1]['title'])\n",
    "print(news.iloc[-1]['abstract'])"
   ]
  },
  {
   "cell_type": "markdown",
   "metadata": {},
   "source": [
    "### Nulls\n",
    "Rather than drop the 5% of articles that do not have abstracts (perhaps because they are image based content) I decide to keep them as it will still be possible to conduct NLP on the titles."
   ]
  },
  {
   "cell_type": "code",
   "execution_count": 10,
   "metadata": {},
   "outputs": [],
   "source": [
    "news['abstract'] = news['abstract'].fillna(\"\")"
   ]
  },
  {
   "cell_type": "code",
   "execution_count": 11,
   "metadata": {},
   "outputs": [
    {
     "data": {
      "text/plain": [
       "news_id  title  abstract\n",
       "False    False  False       51282\n",
       "dtype: int64"
      ]
     },
     "execution_count": 11,
     "metadata": {},
     "output_type": "execute_result"
    }
   ],
   "source": [
    "news.isnull().value_counts()"
   ]
  },
  {
   "cell_type": "markdown",
   "metadata": {},
   "source": [
    "Now let's have a peek at user-news interactions "
   ]
  },
  {
   "cell_type": "code",
   "execution_count": 12,
   "metadata": {},
   "outputs": [
    {
     "name": "stdout",
     "output_type": "stream",
     "text": [
      "<class 'pandas.core.frame.DataFrame'>\n",
      "RangeIndex: 10951083 entries, 0 to 10951082\n",
      "Data columns (total 3 columns):\n",
      " #   Column   Dtype \n",
      "---  ------   ----- \n",
      " 0   user_id  object\n",
      " 1   item     object\n",
      " 2   click    int64 \n",
      "dtypes: int64(1), object(2)\n",
      "memory usage: 250.7+ MB\n"
     ]
    }
   ],
   "source": [
    "users.info()"
   ]
  },
  {
   "cell_type": "code",
   "execution_count": 13,
   "metadata": {},
   "outputs": [
    {
     "name": "stdout",
     "output_type": "stream",
     "text": [
      "Number unique users: 50000\n",
      "Number unique news articles (matches news dataset): 51282\n"
     ]
    }
   ],
   "source": [
    "print(\"Number unique users:\", users.user_id.nunique())\n",
    "print(\"Number unique news articles (matches news dataset):\", users.item.nunique())"
   ]
  },
  {
   "cell_type": "code",
   "execution_count": 14,
   "metadata": {},
   "outputs": [
    {
     "data": {
      "text/html": [
       "<div>\n",
       "<style scoped>\n",
       "    .dataframe tbody tr th:only-of-type {\n",
       "        vertical-align: middle;\n",
       "    }\n",
       "\n",
       "    .dataframe tbody tr th {\n",
       "        vertical-align: top;\n",
       "    }\n",
       "\n",
       "    .dataframe thead th {\n",
       "        text-align: right;\n",
       "    }\n",
       "</style>\n",
       "<table border=\"1\" class=\"dataframe\">\n",
       "  <thead>\n",
       "    <tr style=\"text-align: right;\">\n",
       "      <th></th>\n",
       "      <th>user_id</th>\n",
       "      <th>item</th>\n",
       "      <th>click</th>\n",
       "    </tr>\n",
       "  </thead>\n",
       "  <tbody>\n",
       "    <tr>\n",
       "      <th>0</th>\n",
       "      <td>U13740</td>\n",
       "      <td>N55189</td>\n",
       "      <td>1</td>\n",
       "    </tr>\n",
       "    <tr>\n",
       "      <th>1</th>\n",
       "      <td>U13740</td>\n",
       "      <td>N42782</td>\n",
       "      <td>1</td>\n",
       "    </tr>\n",
       "    <tr>\n",
       "      <th>2</th>\n",
       "      <td>U13740</td>\n",
       "      <td>N34694</td>\n",
       "      <td>1</td>\n",
       "    </tr>\n",
       "    <tr>\n",
       "      <th>3</th>\n",
       "      <td>U13740</td>\n",
       "      <td>N45794</td>\n",
       "      <td>1</td>\n",
       "    </tr>\n",
       "    <tr>\n",
       "      <th>4</th>\n",
       "      <td>U13740</td>\n",
       "      <td>N18445</td>\n",
       "      <td>1</td>\n",
       "    </tr>\n",
       "  </tbody>\n",
       "</table>\n",
       "</div>"
      ],
      "text/plain": [
       "  user_id    item  click\n",
       "0  U13740  N55189      1\n",
       "1  U13740  N42782      1\n",
       "2  U13740  N34694      1\n",
       "3  U13740  N45794      1\n",
       "4  U13740  N18445      1"
      ]
     },
     "execution_count": 14,
     "metadata": {},
     "output_type": "execute_result"
    }
   ],
   "source": [
    "users.head()"
   ]
  },
  {
   "cell_type": "code",
   "execution_count": 15,
   "metadata": {},
   "outputs": [
    {
     "data": {
      "text/plain": [
       "0    0.512013\n",
       "1    0.487987\n",
       "Name: click, dtype: float64"
      ]
     },
     "execution_count": 15,
     "metadata": {},
     "output_type": "execute_result"
    }
   ],
   "source": [
    "users['click'].value_counts(normalize=True)"
   ]
  },
  {
   "cell_type": "markdown",
   "metadata": {},
   "source": [
    "At first blush it looks like a fairly even split of user-news interactions that result in clicks versus not.  \n",
    "\n",
    "However, with 10,951,083 user-news interactions and only 50,000 unique users and 51,282 unique articles, it's worth considering if a given user may interact with a given news article more than once. If we identify such cases, we can simply condense the sum of a given users's total interactions with a given news article into a binary of click/no click."
   ]
  },
  {
   "cell_type": "code",
   "execution_count": 16,
   "metadata": {},
   "outputs": [],
   "source": [
    "users_no_dup = users.groupby(['user_id', 'item'], as_index=False).sum('clicks')"
   ]
  },
  {
   "cell_type": "code",
   "execution_count": 17,
   "metadata": {},
   "outputs": [
    {
     "name": "stdout",
     "output_type": "stream",
     "text": [
      "<class 'pandas.core.frame.DataFrame'>\n",
      "Int64Index: 5894984 entries, 0 to 5894983\n",
      "Data columns (total 3 columns):\n",
      " #   Column   Dtype \n",
      "---  ------   ----- \n",
      " 0   user_id  object\n",
      " 1   item     object\n",
      " 2   click    int64 \n",
      "dtypes: int64(1), object(2)\n",
      "memory usage: 179.9+ MB\n"
     ]
    }
   ],
   "source": [
    "users_no_dup.info()"
   ]
  },
  {
   "cell_type": "code",
   "execution_count": 18,
   "metadata": {},
   "outputs": [
    {
     "data": {
      "text/html": [
       "<div>\n",
       "<style scoped>\n",
       "    .dataframe tbody tr th:only-of-type {\n",
       "        vertical-align: middle;\n",
       "    }\n",
       "\n",
       "    .dataframe tbody tr th {\n",
       "        vertical-align: top;\n",
       "    }\n",
       "\n",
       "    .dataframe thead th {\n",
       "        text-align: right;\n",
       "    }\n",
       "</style>\n",
       "<table border=\"1\" class=\"dataframe\">\n",
       "  <thead>\n",
       "    <tr style=\"text-align: right;\">\n",
       "      <th></th>\n",
       "      <th>click</th>\n",
       "    </tr>\n",
       "  </thead>\n",
       "  <tbody>\n",
       "    <tr>\n",
       "      <th>count</th>\n",
       "      <td>5.894984e+06</td>\n",
       "    </tr>\n",
       "    <tr>\n",
       "      <th>mean</th>\n",
       "      <td>9.065305e-01</td>\n",
       "    </tr>\n",
       "    <tr>\n",
       "      <th>std</th>\n",
       "      <td>2.986565e+00</td>\n",
       "    </tr>\n",
       "    <tr>\n",
       "      <th>min</th>\n",
       "      <td>0.000000e+00</td>\n",
       "    </tr>\n",
       "    <tr>\n",
       "      <th>25%</th>\n",
       "      <td>0.000000e+00</td>\n",
       "    </tr>\n",
       "    <tr>\n",
       "      <th>50%</th>\n",
       "      <td>0.000000e+00</td>\n",
       "    </tr>\n",
       "    <tr>\n",
       "      <th>75%</th>\n",
       "      <td>0.000000e+00</td>\n",
       "    </tr>\n",
       "    <tr>\n",
       "      <th>max</th>\n",
       "      <td>3.100000e+02</td>\n",
       "    </tr>\n",
       "  </tbody>\n",
       "</table>\n",
       "</div>"
      ],
      "text/plain": [
       "              click\n",
       "count  5.894984e+06\n",
       "mean   9.065305e-01\n",
       "std    2.986565e+00\n",
       "min    0.000000e+00\n",
       "25%    0.000000e+00\n",
       "50%    0.000000e+00\n",
       "75%    0.000000e+00\n",
       "max    3.100000e+02"
      ]
     },
     "execution_count": 18,
     "metadata": {},
     "output_type": "execute_result"
    }
   ],
   "source": [
    "users_no_dup.describe()"
   ]
  },
  {
   "cell_type": "markdown",
   "metadata": {},
   "source": [
    "Here we see that there are only 5,894,984 unique user-news interactions - that means about half of the original dataset of user-news interactions were capturing users interacting with news articles that had already seen. But in our case, whether a user saw and article 3 times and clicked on it all 3 times or saw it 3 times and never clicked on it all we are intersted in is whether or not there was at least one click. "
   ]
  },
  {
   "cell_type": "markdown",
   "metadata": {},
   "source": [
    "Before binarizing, let's check to see that this worked as intended."
   ]
  },
  {
   "cell_type": "code",
   "execution_count": 19,
   "metadata": {},
   "outputs": [
    {
     "data": {
      "text/html": [
       "<div>\n",
       "<style scoped>\n",
       "    .dataframe tbody tr th:only-of-type {\n",
       "        vertical-align: middle;\n",
       "    }\n",
       "\n",
       "    .dataframe tbody tr th {\n",
       "        vertical-align: top;\n",
       "    }\n",
       "\n",
       "    .dataframe thead th {\n",
       "        text-align: right;\n",
       "    }\n",
       "</style>\n",
       "<table border=\"1\" class=\"dataframe\">\n",
       "  <thead>\n",
       "    <tr style=\"text-align: right;\">\n",
       "      <th></th>\n",
       "      <th>user_id</th>\n",
       "      <th>item</th>\n",
       "      <th>click</th>\n",
       "    </tr>\n",
       "  </thead>\n",
       "  <tbody>\n",
       "    <tr>\n",
       "      <th>1556089</th>\n",
       "      <td>U32146</td>\n",
       "      <td>N42781</td>\n",
       "      <td>310</td>\n",
       "    </tr>\n",
       "    <tr>\n",
       "      <th>1556292</th>\n",
       "      <td>U32146</td>\n",
       "      <td>N8148</td>\n",
       "      <td>310</td>\n",
       "    </tr>\n",
       "    <tr>\n",
       "      <th>4191566</th>\n",
       "      <td>U70493</td>\n",
       "      <td>N47020</td>\n",
       "      <td>262</td>\n",
       "    </tr>\n",
       "    <tr>\n",
       "      <th>634342</th>\n",
       "      <td>U19040</td>\n",
       "      <td>N18870</td>\n",
       "      <td>224</td>\n",
       "    </tr>\n",
       "    <tr>\n",
       "      <th>1975432</th>\n",
       "      <td>U38326</td>\n",
       "      <td>N61864</td>\n",
       "      <td>198</td>\n",
       "    </tr>\n",
       "  </tbody>\n",
       "</table>\n",
       "</div>"
      ],
      "text/plain": [
       "        user_id    item  click\n",
       "1556089  U32146  N42781    310\n",
       "1556292  U32146   N8148    310\n",
       "4191566  U70493  N47020    262\n",
       "634342   U19040  N18870    224\n",
       "1975432  U38326  N61864    198"
      ]
     },
     "execution_count": 19,
     "metadata": {},
     "output_type": "execute_result"
    }
   ],
   "source": [
    "users_no_dup.sort_values(by='click', ascending=False).head()"
   ]
  },
  {
   "cell_type": "markdown",
   "metadata": {},
   "source": [
    "Wow - user \"U32146\" clicked on news item \"N42781\" 310 times! \n",
    "To ensure that this isn't an error, let's verify by checking back in with the original users dataset. "
   ]
  },
  {
   "cell_type": "code",
   "execution_count": 21,
   "metadata": {},
   "outputs": [
    {
     "name": "stdout",
     "output_type": "stream",
     "text": [
      "Number total user-news interactions for user U32146: 10872\n",
      "Number total times user U32146 clicked on article N42781: 310\n"
     ]
    }
   ],
   "source": [
    "u32146 = users[users['user_id']=='U32146']\n",
    "print(\"Number total user-news interactions for user U32146:\", u32146.shape[0])\n",
    "n42781 = u32146[u32146['item']=='N42781']\n",
    "print(\"Number total times user U32146 clicked on article N42781:\", n42781.shape[0])"
   ]
  },
  {
   "cell_type": "markdown",
   "metadata": {},
   "source": [
    "So perhaps user U32146 isn't what one has in mind as an 'average user' but the numbers check out, onwards to binarizing our target variable! "
   ]
  },
  {
   "cell_type": "code",
   "execution_count": 22,
   "metadata": {},
   "outputs": [],
   "source": [
    "users_no_dup['target'] = users_no_dup['click'].apply(lambda x: 1 if x>0 else 0) "
   ]
  },
  {
   "cell_type": "code",
   "execution_count": 23,
   "metadata": {},
   "outputs": [
    {
     "data": {
      "text/plain": [
       "0    0.805182\n",
       "1    0.194818\n",
       "Name: target, dtype: float64"
      ]
     },
     "execution_count": 23,
     "metadata": {},
     "output_type": "execute_result"
    }
   ],
   "source": [
    "users_no_dup['target'].value_counts(normalize=True)"
   ]
  },
  {
   "cell_type": "code",
   "execution_count": 24,
   "metadata": {},
   "outputs": [
    {
     "data": {
      "text/plain": [
       "0    4746537\n",
       "1    1148447\n",
       "Name: target, dtype: int64"
      ]
     },
     "execution_count": 24,
     "metadata": {},
     "output_type": "execute_result"
    }
   ],
   "source": [
    "# In absolute numbers\n",
    "users_no_dup['target'].value_counts()"
   ]
  },
  {
   "cell_type": "markdown",
   "metadata": {},
   "source": [
    "## Identifying class imbalance  \n",
    "\n",
    "Now that we have re-framed users-news interactions, we see that there is actually a notable class imbalance in the data set. Only 19.48% of articles get clicked on. "
   ]
  },
  {
   "cell_type": "code",
   "execution_count": 25,
   "metadata": {},
   "outputs": [
    {
     "data": {
      "image/png": "[encoded data removed]",
      "text/plain": [
       "<Figure size 432x288 with 1 Axes>"
      ]
     },
     "metadata": {
      "needs_background": "light"
     },
     "output_type": "display_data"
    }
   ],
   "source": [
    "target_count = users_no_dup.target.value_counts()\n",
    "target_count.plot(kind='bar', title='Class Count', rot=0);"
   ]
  },
  {
   "cell_type": "markdown",
   "metadata": {},
   "source": [
    "## Implications of Class Imbalance for Model Evaluation\n",
    "This class imbalance means that we should avoid relying on accuracy, since accuracy applies a \"naive\" 50% threshold to decide between classes, and that is not applicable here. In the \"worst case scenario\", our model could simply predict the majority class all the time (i.e. no click) and have fairly high accuracy, but such a model wouldn't offer much insight into what we are actually interested in, which is ultimately those articles that do get clicks.\n",
    "\n",
    "In a business application, precision is likely to be the most important evaluation metric. This is because precision punishes false positives while not caring about the rate of false negatives. Here, a false positive would be inaccurately labelling an article that was not clicked as clicked, which in the context of a news recommender would mean showing a user an article they do not want to see and are not going to click on, which could have negative effects on user engagement and customer churn. That said, this same type of model applied to a different context, however, such as one which aims at educating users and ensuring that they have access to as many of the relevant news items as possible, might instead choose to prioritize recall performance rather than precision. \n",
    "\n",
    "\n",
    "\n",
    "Note that in the next notebook we will also need to conduct train/test split to ensure that the classes are proportionally represented."
   ]
  },
  {
   "cell_type": "code",
   "execution_count": 26,
   "metadata": {},
   "outputs": [],
   "source": [
    "df = users_no_dup.merge(news, how='left', left_on='item', right_on='news_id')"
   ]
  },
  {
   "cell_type": "code",
   "execution_count": 27,
   "metadata": {},
   "outputs": [
    {
     "name": "stdout",
     "output_type": "stream",
     "text": [
      "<class 'pandas.core.frame.DataFrame'>\n",
      "Int64Index: 5894984 entries, 0 to 5894983\n",
      "Data columns (total 7 columns):\n",
      " #   Column    Dtype \n",
      "---  ------    ----- \n",
      " 0   user_id   object\n",
      " 1   item      object\n",
      " 2   click     int64 \n",
      " 3   target    int64 \n",
      " 4   news_id   object\n",
      " 5   title     object\n",
      " 6   abstract  object\n",
      "dtypes: int64(2), object(5)\n",
      "memory usage: 359.8+ MB\n"
     ]
    }
   ],
   "source": [
    "df.info()"
   ]
  },
  {
   "cell_type": "code",
   "execution_count": 28,
   "metadata": {},
   "outputs": [
    {
     "data": {
      "text/html": [
       "<div>\n",
       "<style scoped>\n",
       "    .dataframe tbody tr th:only-of-type {\n",
       "        vertical-align: middle;\n",
       "    }\n",
       "\n",
       "    .dataframe tbody tr th {\n",
       "        vertical-align: top;\n",
       "    }\n",
       "\n",
       "    .dataframe thead th {\n",
       "        text-align: right;\n",
       "    }\n",
       "</style>\n",
       "<table border=\"1\" class=\"dataframe\">\n",
       "  <thead>\n",
       "    <tr style=\"text-align: right;\">\n",
       "      <th></th>\n",
       "      <th>user_id</th>\n",
       "      <th>item</th>\n",
       "      <th>click</th>\n",
       "      <th>target</th>\n",
       "      <th>news_id</th>\n",
       "      <th>title</th>\n",
       "      <th>abstract</th>\n",
       "    </tr>\n",
       "  </thead>\n",
       "  <tbody>\n",
       "    <tr>\n",
       "      <th>0</th>\n",
       "      <td>U100</td>\n",
       "      <td>N10121</td>\n",
       "      <td>0</td>\n",
       "      <td>0</td>\n",
       "      <td>N10121</td>\n",
       "      <td>Disney+ isn't working for some users on launch...</td>\n",
       "      <td>Like most new online services, it looks like D...</td>\n",
       "    </tr>\n",
       "    <tr>\n",
       "      <th>1</th>\n",
       "      <td>U100</td>\n",
       "      <td>N10532</td>\n",
       "      <td>0</td>\n",
       "      <td>0</td>\n",
       "      <td>N10532</td>\n",
       "      <td>Advocacy groups push Senate to include electio...</td>\n",
       "      <td>A group of advocacy organizations is pushing t...</td>\n",
       "    </tr>\n",
       "    <tr>\n",
       "      <th>2</th>\n",
       "      <td>U100</td>\n",
       "      <td>N11813</td>\n",
       "      <td>0</td>\n",
       "      <td>0</td>\n",
       "      <td>N11813</td>\n",
       "      <td>Angels GM hinting at going after Gerrit Cole, ...</td>\n",
       "      <td>With payroll flexibility and the need to add a...</td>\n",
       "    </tr>\n",
       "    <tr>\n",
       "      <th>3</th>\n",
       "      <td>U100</td>\n",
       "      <td>N11856</td>\n",
       "      <td>0</td>\n",
       "      <td>0</td>\n",
       "      <td>N11856</td>\n",
       "      <td>Pro Russian hockey team tweets it wants fired ...</td>\n",
       "      <td>HC Dynamo Moscow of the KHL tweeted Tuesday th...</td>\n",
       "    </tr>\n",
       "    <tr>\n",
       "      <th>4</th>\n",
       "      <td>U100</td>\n",
       "      <td>N13827</td>\n",
       "      <td>0</td>\n",
       "      <td>0</td>\n",
       "      <td>N13827</td>\n",
       "      <td>DIY Closet Organization Ideas That Will Make G...</td>\n",
       "      <td>Getting dressed in the morning has never been ...</td>\n",
       "    </tr>\n",
       "  </tbody>\n",
       "</table>\n",
       "</div>"
      ],
      "text/plain": [
       "  user_id    item  click  target news_id  \\\n",
       "0    U100  N10121      0       0  N10121   \n",
       "1    U100  N10532      0       0  N10532   \n",
       "2    U100  N11813      0       0  N11813   \n",
       "3    U100  N11856      0       0  N11856   \n",
       "4    U100  N13827      0       0  N13827   \n",
       "\n",
       "                                               title  \\\n",
       "0  Disney+ isn't working for some users on launch...   \n",
       "1  Advocacy groups push Senate to include electio...   \n",
       "2  Angels GM hinting at going after Gerrit Cole, ...   \n",
       "3  Pro Russian hockey team tweets it wants fired ...   \n",
       "4  DIY Closet Organization Ideas That Will Make G...   \n",
       "\n",
       "                                            abstract  \n",
       "0  Like most new online services, it looks like D...  \n",
       "1  A group of advocacy organizations is pushing t...  \n",
       "2  With payroll flexibility and the need to add a...  \n",
       "3  HC Dynamo Moscow of the KHL tweeted Tuesday th...  \n",
       "4  Getting dressed in the morning has never been ...  "
      ]
     },
     "execution_count": 28,
     "metadata": {},
     "output_type": "execute_result"
    }
   ],
   "source": [
    "df.head()"
   ]
  },
  {
   "cell_type": "markdown",
   "metadata": {},
   "source": [
    "Let's get rid of duplicate columns and reorder."
   ]
  },
  {
   "cell_type": "code",
   "execution_count": 29,
   "metadata": {},
   "outputs": [],
   "source": [
    "df = df[['user_id', 'news_id', 'title', 'abstract', 'target']]"
   ]
  },
  {
   "cell_type": "code",
   "execution_count": 30,
   "metadata": {},
   "outputs": [
    {
     "data": {
      "text/html": [
       "<div>\n",
       "<style scoped>\n",
       "    .dataframe tbody tr th:only-of-type {\n",
       "        vertical-align: middle;\n",
       "    }\n",
       "\n",
       "    .dataframe tbody tr th {\n",
       "        vertical-align: top;\n",
       "    }\n",
       "\n",
       "    .dataframe thead th {\n",
       "        text-align: right;\n",
       "    }\n",
       "</style>\n",
       "<table border=\"1\" class=\"dataframe\">\n",
       "  <thead>\n",
       "    <tr style=\"text-align: right;\">\n",
       "      <th></th>\n",
       "      <th>user_id</th>\n",
       "      <th>news_id</th>\n",
       "      <th>title</th>\n",
       "      <th>abstract</th>\n",
       "      <th>target</th>\n",
       "    </tr>\n",
       "  </thead>\n",
       "  <tbody>\n",
       "    <tr>\n",
       "      <th>0</th>\n",
       "      <td>U100</td>\n",
       "      <td>N10121</td>\n",
       "      <td>Disney+ isn't working for some users on launch...</td>\n",
       "      <td>Like most new online services, it looks like D...</td>\n",
       "      <td>0</td>\n",
       "    </tr>\n",
       "    <tr>\n",
       "      <th>1</th>\n",
       "      <td>U100</td>\n",
       "      <td>N10532</td>\n",
       "      <td>Advocacy groups push Senate to include electio...</td>\n",
       "      <td>A group of advocacy organizations is pushing t...</td>\n",
       "      <td>0</td>\n",
       "    </tr>\n",
       "    <tr>\n",
       "      <th>2</th>\n",
       "      <td>U100</td>\n",
       "      <td>N11813</td>\n",
       "      <td>Angels GM hinting at going after Gerrit Cole, ...</td>\n",
       "      <td>With payroll flexibility and the need to add a...</td>\n",
       "      <td>0</td>\n",
       "    </tr>\n",
       "    <tr>\n",
       "      <th>3</th>\n",
       "      <td>U100</td>\n",
       "      <td>N11856</td>\n",
       "      <td>Pro Russian hockey team tweets it wants fired ...</td>\n",
       "      <td>HC Dynamo Moscow of the KHL tweeted Tuesday th...</td>\n",
       "      <td>0</td>\n",
       "    </tr>\n",
       "    <tr>\n",
       "      <th>4</th>\n",
       "      <td>U100</td>\n",
       "      <td>N13827</td>\n",
       "      <td>DIY Closet Organization Ideas That Will Make G...</td>\n",
       "      <td>Getting dressed in the morning has never been ...</td>\n",
       "      <td>0</td>\n",
       "    </tr>\n",
       "  </tbody>\n",
       "</table>\n",
       "</div>"
      ],
      "text/plain": [
       "  user_id news_id                                              title  \\\n",
       "0    U100  N10121  Disney+ isn't working for some users on launch...   \n",
       "1    U100  N10532  Advocacy groups push Senate to include electio...   \n",
       "2    U100  N11813  Angels GM hinting at going after Gerrit Cole, ...   \n",
       "3    U100  N11856  Pro Russian hockey team tweets it wants fired ...   \n",
       "4    U100  N13827  DIY Closet Organization Ideas That Will Make G...   \n",
       "\n",
       "                                            abstract  target  \n",
       "0  Like most new online services, it looks like D...       0  \n",
       "1  A group of advocacy organizations is pushing t...       0  \n",
       "2  With payroll flexibility and the need to add a...       0  \n",
       "3  HC Dynamo Moscow of the KHL tweeted Tuesday th...       0  \n",
       "4  Getting dressed in the morning has never been ...       0  "
      ]
     },
     "execution_count": 30,
     "metadata": {},
     "output_type": "execute_result"
    }
   ],
   "source": [
    "df.head()"
   ]
  },
  {
   "cell_type": "code",
   "execution_count": 31,
   "metadata": {},
   "outputs": [
    {
     "data": {
      "text/html": [
       "<div>\n",
       "<style scoped>\n",
       "    .dataframe tbody tr th:only-of-type {\n",
       "        vertical-align: middle;\n",
       "    }\n",
       "\n",
       "    .dataframe tbody tr th {\n",
       "        vertical-align: top;\n",
       "    }\n",
       "\n",
       "    .dataframe thead th {\n",
       "        text-align: right;\n",
       "    }\n",
       "</style>\n",
       "<table border=\"1\" class=\"dataframe\">\n",
       "  <thead>\n",
       "    <tr style=\"text-align: right;\">\n",
       "      <th></th>\n",
       "      <th>user_id</th>\n",
       "      <th>news_id</th>\n",
       "      <th>title</th>\n",
       "      <th>abstract</th>\n",
       "      <th>target</th>\n",
       "    </tr>\n",
       "  </thead>\n",
       "  <tbody>\n",
       "    <tr>\n",
       "      <th>5894979</th>\n",
       "      <td>U9999</td>\n",
       "      <td>N5978</td>\n",
       "      <td>Eric Tse, 24, just became a billionaire overnight</td>\n",
       "      <td>A 24-year-old business school graduate has jus...</td>\n",
       "      <td>1</td>\n",
       "    </tr>\n",
       "    <tr>\n",
       "      <th>5894980</th>\n",
       "      <td>U9999</td>\n",
       "      <td>N61022</td>\n",
       "      <td>Roommate, her boyfriend charged in death of mi...</td>\n",
       "      <td>Missing Atlanta student Alexis Crawford was fo...</td>\n",
       "      <td>1</td>\n",
       "    </tr>\n",
       "    <tr>\n",
       "      <th>5894981</th>\n",
       "      <td>U9999</td>\n",
       "      <td>N62471</td>\n",
       "      <td>Trent Williams fails physical, experiencing di...</td>\n",
       "      <td>Washington Redskins tackle Trent Williams' hea...</td>\n",
       "      <td>1</td>\n",
       "    </tr>\n",
       "    <tr>\n",
       "      <th>5894982</th>\n",
       "      <td>U9999</td>\n",
       "      <td>N64049</td>\n",
       "      <td>After Soldiers Surrender El Chapo's Son, a Sho...</td>\n",
       "      <td>In the days following the siege of the city of...</td>\n",
       "      <td>1</td>\n",
       "    </tr>\n",
       "    <tr>\n",
       "      <th>5894983</th>\n",
       "      <td>U9999</td>\n",
       "      <td>N64503</td>\n",
       "      <td>'Time was of the essence': Politicians add to ...</td>\n",
       "      <td>Kamille \"Cupcake\" McKinney was playing at a bi...</td>\n",
       "      <td>1</td>\n",
       "    </tr>\n",
       "  </tbody>\n",
       "</table>\n",
       "</div>"
      ],
      "text/plain": [
       "        user_id news_id                                              title  \\\n",
       "5894979   U9999   N5978  Eric Tse, 24, just became a billionaire overnight   \n",
       "5894980   U9999  N61022  Roommate, her boyfriend charged in death of mi...   \n",
       "5894981   U9999  N62471  Trent Williams fails physical, experiencing di...   \n",
       "5894982   U9999  N64049  After Soldiers Surrender El Chapo's Son, a Sho...   \n",
       "5894983   U9999  N64503  'Time was of the essence': Politicians add to ...   \n",
       "\n",
       "                                                  abstract  target  \n",
       "5894979  A 24-year-old business school graduate has jus...       1  \n",
       "5894980  Missing Atlanta student Alexis Crawford was fo...       1  \n",
       "5894981  Washington Redskins tackle Trent Williams' hea...       1  \n",
       "5894982  In the days following the siege of the city of...       1  \n",
       "5894983  Kamille \"Cupcake\" McKinney was playing at a bi...       1  "
      ]
     },
     "execution_count": 31,
     "metadata": {},
     "output_type": "execute_result"
    }
   ],
   "source": [
    "df.tail()"
   ]
  },
  {
   "cell_type": "code",
   "execution_count": 38,
   "metadata": {},
   "outputs": [],
   "source": [
    "with open('full_df.pickle', 'wb') as to_write:\n",
    "    pickle.dump(df, to_write)"
   ]
  }
 ],
 "metadata": {
  "kernelspec": {
   "display_name": "Python 3",
   "language": "python",
   "name": "python3"
  },
  "language_info": {
   "codemirror_mode": {
    "name": "ipython",
    "version": 3
   },
   "file_extension": ".py",
   "mimetype": "text/x-python",
   "name": "python",
   "nbconvert_exporter": "python",
   "pygments_lexer": "ipython3",
   "version": "3.8.3"
  }
 },
 "nbformat": 4,
 "nbformat_minor": 4
}
