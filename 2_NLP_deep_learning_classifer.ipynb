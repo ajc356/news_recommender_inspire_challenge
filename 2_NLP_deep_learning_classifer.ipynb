{
 "cells": [
  {
   "cell_type": "markdown",
   "metadata": {
    "id": "h4JmJAGK2Y0o"
   },
   "source": [
    "# Deep Learning NLP Recommender Challenge - Modeling\n",
    "\n",
    "Amanda Cheney  \n",
    "Part 2 of 2  \n",
    "March 1, 2021"
   ]
  },
  {
   "cell_type": "markdown",
   "metadata": {},
   "source": [
    "#### Objective  \n",
    "Construct a deep learning network using NLP techniques that is able to predict whether a user will click on an unseen news article. The model should take as input user-news items and output a binary variable (1/0).  "
   ]
  },
  {
   "cell_type": "markdown",
   "metadata": {},
   "source": [
    "#### This Notebook  \n",
    "Uses FastAI to construct language model and classifer that predicts user-news interactions with 96% precision."
   ]
  },
  {
   "cell_type": "markdown",
   "metadata": {
    "id": "JQNK2uEgmDcK"
   },
   "source": [
    "### Imports"
   ]
  },
  {
   "cell_type": "code",
   "execution_count": 1,
   "metadata": {
    "id": "88s9vMgqZIbF"
   },
   "outputs": [],
   "source": [
    "import numpy as np\n",
    "import pandas as pd \n",
    "import pickle \n",
    "from sklearn.model_selection import train_test_split\n",
    "\n",
    "from fastai import * \n",
    "from fastai.text import * \n",
    "from fastai.callbacks import *\n",
    "\n",
    "# Avoid warnings\n",
    "import warnings\n",
    "warnings.filterwarnings(\"ignore\")"
   ]
  },
  {
   "cell_type": "markdown",
   "metadata": {
    "id": "UDx7MUwMmIlJ"
   },
   "source": [
    "### Load Data"
   ]
  },
  {
   "cell_type": "code",
   "execution_count": 2,
   "metadata": {
    "colab": {
     "base_uri": "https://localhost:8080/"
    },
    "id": "mB4sP4rza2Aw",
    "outputId": "d8dfa400-01ad-4201-d735-62f6e07cbb62"
   },
   "outputs": [
    {
     "name": "stdout",
     "output_type": "stream",
     "text": [
      "Mounted at /content/drive\n"
     ]
    }
   ],
   "source": [
    "from google.colab import drive\n",
    "drive.mount('/content/drive')"
   ]
  },
  {
   "cell_type": "code",
   "execution_count": 3,
   "metadata": {
    "id": "tRiOAOild0tH"
   },
   "outputs": [],
   "source": [
    "with open('/content/drive/MyDrive/inspire_challenge/full_df.pickle', 'rb') as read_file:\n",
    "    df = pickle.load(read_file)"
   ]
  },
  {
   "cell_type": "code",
   "execution_count": 4,
   "metadata": {
    "colab": {
     "base_uri": "https://localhost:8080/",
     "height": 204
    },
    "id": "byD3d-fLaMLT",
    "outputId": "9ba6e0ae-a9a5-4e32-c49e-409b75c6dfaa"
   },
   "outputs": [
    {
     "data": {
      "text/html": [
       "<div>\n",
       "<style scoped>\n",
       "    .dataframe tbody tr th:only-of-type {\n",
       "        vertical-align: middle;\n",
       "    }\n",
       "\n",
       "    .dataframe tbody tr th {\n",
       "        vertical-align: top;\n",
       "    }\n",
       "\n",
       "    .dataframe thead th {\n",
       "        text-align: right;\n",
       "    }\n",
       "</style>\n",
       "<table border=\"1\" class=\"dataframe\">\n",
       "  <thead>\n",
       "    <tr style=\"text-align: right;\">\n",
       "      <th></th>\n",
       "      <th>user_id</th>\n",
       "      <th>news_id</th>\n",
       "      <th>title</th>\n",
       "      <th>abstract</th>\n",
       "      <th>target</th>\n",
       "    </tr>\n",
       "  </thead>\n",
       "  <tbody>\n",
       "    <tr>\n",
       "      <th>0</th>\n",
       "      <td>U100</td>\n",
       "      <td>N10121</td>\n",
       "      <td>Disney+ isn't working for some users on launch...</td>\n",
       "      <td>Like most new online services, it looks like D...</td>\n",
       "      <td>0</td>\n",
       "    </tr>\n",
       "    <tr>\n",
       "      <th>1</th>\n",
       "      <td>U100</td>\n",
       "      <td>N10532</td>\n",
       "      <td>Advocacy groups push Senate to include electio...</td>\n",
       "      <td>A group of advocacy organizations is pushing t...</td>\n",
       "      <td>0</td>\n",
       "    </tr>\n",
       "    <tr>\n",
       "      <th>2</th>\n",
       "      <td>U100</td>\n",
       "      <td>N11813</td>\n",
       "      <td>Angels GM hinting at going after Gerrit Cole, ...</td>\n",
       "      <td>With payroll flexibility and the need to add a...</td>\n",
       "      <td>0</td>\n",
       "    </tr>\n",
       "    <tr>\n",
       "      <th>3</th>\n",
       "      <td>U100</td>\n",
       "      <td>N11856</td>\n",
       "      <td>Pro Russian hockey team tweets it wants fired ...</td>\n",
       "      <td>HC Dynamo Moscow of the KHL tweeted Tuesday th...</td>\n",
       "      <td>0</td>\n",
       "    </tr>\n",
       "    <tr>\n",
       "      <th>4</th>\n",
       "      <td>U100</td>\n",
       "      <td>N13827</td>\n",
       "      <td>DIY Closet Organization Ideas That Will Make G...</td>\n",
       "      <td>Getting dressed in the morning has never been ...</td>\n",
       "      <td>0</td>\n",
       "    </tr>\n",
       "  </tbody>\n",
       "</table>\n",
       "</div>"
      ],
      "text/plain": [
       "  user_id news_id  ...                                           abstract target\n",
       "0    U100  N10121  ...  Like most new online services, it looks like D...      0\n",
       "1    U100  N10532  ...  A group of advocacy organizations is pushing t...      0\n",
       "2    U100  N11813  ...  With payroll flexibility and the need to add a...      0\n",
       "3    U100  N11856  ...  HC Dynamo Moscow of the KHL tweeted Tuesday th...      0\n",
       "4    U100  N13827  ...  Getting dressed in the morning has never been ...      0\n",
       "\n",
       "[5 rows x 5 columns]"
      ]
     },
     "execution_count": 4,
     "metadata": {
      "tags": []
     },
     "output_type": "execute_result"
    }
   ],
   "source": [
    "df.head()"
   ]
  },
  {
   "cell_type": "markdown",
   "metadata": {
    "id": "RNgnFnJGmM6m"
   },
   "source": [
    "### Train/Test Split  \n",
    "Split data into train and test. Note that since we are using fastai, we do not need to do an additional validation split at this point, as that will be done later when we build the classification model. Before we do that, however, we must first build our language model."
   ]
  },
  {
   "cell_type": "code",
   "execution_count": 5,
   "metadata": {
    "id": "Rtj9JWaed84x"
   },
   "outputs": [],
   "source": [
    "train, test = train_test_split(df, test_size=0.2, random_state=44, stratify=df['target'])"
   ]
  },
  {
   "cell_type": "code",
   "execution_count": 6,
   "metadata": {
    "colab": {
     "base_uri": "https://localhost:8080/"
    },
    "id": "1jG1pPNReEDB",
    "outputId": "f3d21e99-e05d-468f-9436-3efb6675f99d"
   },
   "outputs": [
    {
     "data": {
      "text/plain": [
       "0    0.805182\n",
       "1    0.194818\n",
       "Name: target, dtype: float64"
      ]
     },
     "execution_count": 6,
     "metadata": {
      "tags": []
     },
     "output_type": "execute_result"
    }
   ],
   "source": [
    "train.target.value_counts(normalize=True)"
   ]
  },
  {
   "cell_type": "code",
   "execution_count": 7,
   "metadata": {
    "colab": {
     "base_uri": "https://localhost:8080/"
    },
    "id": "s2TYpEo4eGP7",
    "outputId": "4e74d203-2fda-42e8-c20d-a29c6c429a11"
   },
   "outputs": [
    {
     "data": {
      "text/plain": [
       "0    0.805183\n",
       "1    0.194817\n",
       "Name: target, dtype: float64"
      ]
     },
     "execution_count": 7,
     "metadata": {
      "tags": []
     },
     "output_type": "execute_result"
    }
   ],
   "source": [
    "test.target.value_counts(normalize=True)"
   ]
  },
  {
   "cell_type": "markdown",
   "metadata": {
    "id": "5pWoNAD2nLp-"
   },
   "source": [
    "### Language Model  \n",
    "To conduct any NLP analyis, the first step is to convert text data a list of tokens and then convert those tokens into some kind of numeric representation. I use fast.ai's `Data Block API` for these tasks, which it more or less does these preprocessing tasks under the hood.   \n",
    "In the following call we do the following:  \n",
    "1. Import data from our training data DataFrame and tell the model to use `abstract` and `title` as input. \n",
    "2. Split the training dataset into train/validation sets by random 20/80 percent.\n",
    "3. Implictly ignore the given labels and instead use the language model's 'predict next word' as labels \n",
    "4. Build the data into a `databunch` with batch size = 48.   \n",
    "\n",
    "The `databunch` that we create here will later be fed to our language model in the coming steps.\n"
   ]
  },
  {
   "cell_type": "code",
   "execution_count": 8,
   "metadata": {
    "colab": {
     "base_uri": "https://localhost:8080/",
     "height": 51
    },
    "id": "RqEHpkoQbVMn",
    "outputId": "a13893a9-5043-43b5-ec2c-14804ded3234"
   },
   "outputs": [
    {
     "data": {
      "text/html": [],
      "text/plain": [
       "<IPython.core.display.HTML object>"
      ]
     },
     "metadata": {
      "tags": []
     },
     "output_type": "display_data"
    },
    {
     "data": {
      "text/html": [],
      "text/plain": [
       "<IPython.core.display.HTML object>"
      ]
     },
     "metadata": {
      "tags": []
     },
     "output_type": "display_data"
    },
    {
     "name": "stdout",
     "output_type": "stream",
     "text": [
      "CPU times: user 1min 13s, sys: 1min 7s, total: 2min 21s\n",
      "Wall time: 11min 47s\n"
     ]
    }
   ],
   "source": [
    "%%time\n",
    "data_lm = TextList.from_df(train[['title','abstract']]).split_by_rand_pct(0.2).label_for_lm().databunch(bs=48)"
   ]
  },
  {
   "cell_type": "markdown",
   "metadata": {
    "id": "eEd3u20GqlKz"
   },
   "source": [
    "Let's have a look at the `databunch` we just built to see that the tokenization looks okay on the training set."
   ]
  },
  {
   "cell_type": "code",
   "execution_count": 9,
   "metadata": {
    "colab": {
     "base_uri": "https://localhost:8080/",
     "height": 374
    },
    "id": "ekLeFpo-sarw",
    "outputId": "cf55e481-f65c-4827-942e-e968ff12c975"
   },
   "outputs": [
    {
     "data": {
      "text/html": [
       "<table border=\"1\" class=\"dataframe\">\n",
       "  <thead>\n",
       "    <tr style=\"text-align: right;\">\n",
       "      <th>idx</th>\n",
       "      <th>text</th>\n",
       "    </tr>\n",
       "  </thead>\n",
       "  <tbody>\n",
       "    <tr>\n",
       "      <td>0</td>\n",
       "      <td>xxbos xxmaj the most exclusive hotel in every state xxbos xxmaj pope blasts ' inhuman , un - xxmaj christian ' rebirth of anti - xxmaj semitism xxbos xxmaj entire xxmaj oklahoma and xxmaj texas teams get unsportsmanlike conduct penalties before xxmaj red xxmaj river xxmaj showdown xxbos xxmaj powell 's xxmaj warning to xxmaj congress xxmaj about the xxmaj next xxmaj recession xxbos xxmaj see the most expensive watch</td>\n",
       "    </tr>\n",
       "    <tr>\n",
       "      <td>1</td>\n",
       "      <td>xxmaj for the first time ever , a xxup us cheese is named best in the world xxbos ' xxmaj do n't stay silent ' : xxmaj democrats lash out as xxup gop blocks gun measure amid school shooting xxbos a $ 30,000 handbag . a disastrous wine spill . xxmaj and now , a country club is suing its own waiter . xxbos xxmaj freshman finds 1966 calendar behind</td>\n",
       "    </tr>\n",
       "    <tr>\n",
       "      <td>2</td>\n",
       "      <td>mainstays from xxmaj your xxmaj childhood xxmaj that xxmaj you xxmaj wo n't xxmaj find in xxmaj new xxmaj homes xxbos xxmaj bands ' final albums before they broke up xxbos xxmaj century xxmaj links 11 / 9 : xxmaj how xxmaj can xxmaj seahawks xxmaj improve on xxmaj defense ? xxbos xxmaj wealthy investors are bracing for a sharp stock sell - off in 2020 xxbos xxup us held</td>\n",
       "    </tr>\n",
       "    <tr>\n",
       "      <td>3</td>\n",
       "      <td>me xxmaj fall in xxmaj love xxmaj with ... xxmaj beets xxbos xxmaj this xxmaj guy xxmaj lost 30 xxmaj pounds and xxmaj gained a xxmaj rock - xxmaj hard xxmaj six xxmaj pack xxbos xxmaj in xxmaj less xxmaj than a xxmaj decade , xxmaj you xxmaj wo n't xxmaj be xxmaj able xxmaj to xxmaj afford a xxmaj home in xxmaj these xxmaj cities xxbos xxmaj stunning photos</td>\n",
       "    </tr>\n",
       "    <tr>\n",
       "      <td>4</td>\n",
       "      <td>market , ex - xxup fda adviser says xxbos xxmaj georgia executes man convicted of killing convenience store clerk xxbos xxmaj one of xxmaj america 's biggest solar panel makers quits manufacturing xxbos 40 xxmaj restaurant xxmaj meals xxmaj you xxmaj should xxmaj never xxmaj eat xxmaj after 40 xxbos xxmaj the xxmaj full - xxmaj size 2022 xxmaj jeep xxmaj grand xxmaj wagoneer xxup suv xxmaj is xxmaj finally</td>\n",
       "    </tr>\n",
       "  </tbody>\n",
       "</table>"
      ],
      "text/plain": [
       "<IPython.core.display.HTML object>"
      ]
     },
     "metadata": {
      "tags": []
     },
     "output_type": "display_data"
    }
   ],
   "source": [
    "data_lm.show_batch()"
   ]
  },
  {
   "cell_type": "markdown",
   "metadata": {
    "id": "TDs_tN-nRqAH"
   },
   "source": [
    "The xx___ tags represent the aspects of language in a way that the computer can understand. The xxbos tag marks the beginning of a sentence. The xxmaj tag is used to imply that the first letter of the next word is capitalized."
   ]
  },
  {
   "cell_type": "markdown",
   "metadata": {
    "id": "FVbE850Lq06Z"
   },
   "source": [
    "### Model Architecture   \n",
    "Now we will use our `data_lm` databunch to make our language model. First we put our `data_lm` databunch into a `language_model_learner`, tell it that we want to use `AWD_LSTM` for the architecture our language model, and assign a default dropout rate of 0.3.\n",
    "\n",
    "`AWD-LSTM` is a pre-trained language model trained on Wikipedia text data (Wikitext-103). While theoretically, we could directly use this pre-trained language model to build our news classifier, the language used in news headlines and abstracts is somewhat different from the language of Wikipedia. FastAI allows us to fine-tune this pre-trained language model using our news abstract and title data and then build our classifier on top of that to create our own language model. \n",
    "\n",
    "The language model we are building here, is being trained to guess the next word starting from a sequence of words as input. It has a recurrent structure and a hidden state that is updated each time it sees a new word. While simple RNN's suffer from the exploding gradients, using LSTM (Long Short Term Memory) helps avoid this problem as it has a unique way of computing the hidden state and is capable of learning long-term dependencies. The AWD aspect of the AWD-LSTM architecture (which stands for **A**SGD **W**eight **D**ropped  (ASGB stands for **A**veraged **S**tochastic **G**radient **D**escent)) takes a regular LSTM with several layers and adds on additional regularization using various types of dropouts which discard partial information of the weight matriculates between the hidden states to avoid overfitting. "
   ]
  },
  {
   "cell_type": "code",
   "execution_count": 10,
   "metadata": {
    "colab": {
     "base_uri": "https://localhost:8080/",
     "height": 68
    },
    "id": "rdCXBf15bYEj",
    "outputId": "76ea3c82-48eb-41e4-c8e0-29d3c029a1c3"
   },
   "outputs": [
    {
     "name": "stdout",
     "output_type": "stream",
     "text": [
      "Downloading https://s3.amazonaws.com/fast-ai-modelzoo/wt103-fwd.tgz\n"
     ]
    },
    {
     "data": {
      "text/html": [],
      "text/plain": [
       "<IPython.core.display.HTML object>"
      ]
     },
     "metadata": {
      "tags": []
     },
     "output_type": "display_data"
    },
    {
     "name": "stdout",
     "output_type": "stream",
     "text": [
      "CPU times: user 2.85 s, sys: 531 ms, total: 3.38 s\n",
      "Wall time: 6.93 s\n"
     ]
    }
   ],
   "source": [
    "%%time\n",
    "learn = language_model_learner(data_lm,AWD_LSTM, drop_mult=0.3)"
   ]
  },
  {
   "cell_type": "code",
   "execution_count": 11,
   "metadata": {
    "colab": {
     "base_uri": "https://localhost:8080/",
     "height": 146
    },
    "id": "VRFHrdnMdItH",
    "outputId": "8c6d9071-00e4-44ee-ce7c-baa3ff4ef421",
    "scrolled": true
   },
   "outputs": [
    {
     "data": {
      "text/html": [
       "\n",
       "    <div>\n",
       "        <style>\n",
       "            /* Turns off some styling */\n",
       "            progress {\n",
       "                /* gets rid of default border in Firefox and Opera. */\n",
       "                border: none;\n",
       "                /* Needs to be in here for Safari polyfill so background images work as expected. */\n",
       "                background-size: auto;\n",
       "            }\n",
       "            .progress-bar-interrupted, .progress-bar-interrupted::-webkit-progress-bar {\n",
       "                background: #F44336;\n",
       "            }\n",
       "        </style>\n",
       "      <progress value='0' class='' max='1' style='width:300px; height:20px; vertical-align: middle;'></progress>\n",
       "      0.00% [0/1 00:00<00:00]\n",
       "    </div>\n",
       "    \n",
       "<table border=\"1\" class=\"dataframe\">\n",
       "  <thead>\n",
       "    <tr style=\"text-align: left;\">\n",
       "      <th>epoch</th>\n",
       "      <th>train_loss</th>\n",
       "      <th>valid_loss</th>\n",
       "      <th>accuracy</th>\n",
       "      <th>time</th>\n",
       "    </tr>\n",
       "  </thead>\n",
       "  <tbody>\n",
       "  </tbody>\n",
       "</table><p>\n",
       "\n",
       "    <div>\n",
       "        <style>\n",
       "            /* Turns off some styling */\n",
       "            progress {\n",
       "                /* gets rid of default border in Firefox and Opera. */\n",
       "                border: none;\n",
       "                /* Needs to be in here for Safari polyfill so background images work as expected. */\n",
       "                background-size: auto;\n",
       "            }\n",
       "            .progress-bar-interrupted, .progress-bar-interrupted::-webkit-progress-bar {\n",
       "                background: #F44336;\n",
       "            }\n",
       "        </style>\n",
       "      <progress value='99' class='' max='20814' style='width:300px; height:20px; vertical-align: middle;'></progress>\n",
       "      0.48% [99/20814 00:06<23:55 8.4169]\n",
       "    </div>\n",
       "    "
      ],
      "text/plain": [
       "<IPython.core.display.HTML object>"
      ]
     },
     "metadata": {
      "tags": []
     },
     "output_type": "display_data"
    },
    {
     "name": "stdout",
     "output_type": "stream",
     "text": [
      "LR Finder is complete, type {learner_name}.recorder.plot() to see the graph.\n",
      "CPU times: user 16.6 s, sys: 2.96 s, total: 19.6 s\n",
      "Wall time: 19.7 s\n"
     ]
    }
   ],
   "source": [
    "%%time\n",
    "learn.lr_find()"
   ]
  },
  {
   "cell_type": "markdown",
   "metadata": {
    "id": "RtP_-CPosSS-"
   },
   "source": [
    "From the `LR Finder` graph below, we now identify the the biggest downward slope and pick the middle point as our learning rate. "
   ]
  },
  {
   "cell_type": "code",
   "execution_count": 12,
   "metadata": {
    "colab": {
     "base_uri": "https://localhost:8080/",
     "height": 313
    },
    "id": "vjZRIGCedLYR",
    "outputId": "09ffcf37-01ab-4119-df0c-8c459983ab0d"
   },
   "outputs": [
    {
     "name": "stdout",
     "output_type": "stream",
     "text": [
      "Min numerical gradient: 1.00E-01\n",
      "Min loss divided by 10: 6.31E-02\n"
     ]
    },
    {
     "data": {
      "image/png": "[encoded data removed]",
      "text/plain": [
       "<Figure size 432x288 with 1 Axes>"
      ]
     },
     "metadata": {
      "needs_background": "light",
      "tags": []
     },
     "output_type": "display_data"
    }
   ],
   "source": [
    "learn.recorder.plot(suggestion=True)"
   ]
  },
  {
   "cell_type": "markdown",
   "metadata": {
    "id": "nkpTwg2ps3wQ"
   },
   "source": [
    "Now, we use this learning rate to train the language model."
   ]
  },
  {
   "cell_type": "code",
   "execution_count": 13,
   "metadata": {
    "colab": {
     "base_uri": "https://localhost:8080/",
     "height": 114
    },
    "id": "6oZO5n8ydekb",
    "outputId": "ae487b8f-c549-431a-c7d9-a6c59819c1d0"
   },
   "outputs": [
    {
     "data": {
      "text/html": [
       "<table border=\"1\" class=\"dataframe\">\n",
       "  <thead>\n",
       "    <tr style=\"text-align: left;\">\n",
       "      <th>epoch</th>\n",
       "      <th>train_loss</th>\n",
       "      <th>valid_loss</th>\n",
       "      <th>accuracy</th>\n",
       "      <th>time</th>\n",
       "    </tr>\n",
       "  </thead>\n",
       "  <tbody>\n",
       "    <tr>\n",
       "      <td>0</td>\n",
       "      <td>0.821538</td>\n",
       "      <td>0.691408</td>\n",
       "      <td>0.881484</td>\n",
       "      <td>26:07</td>\n",
       "    </tr>\n",
       "  </tbody>\n",
       "</table>"
      ],
      "text/plain": [
       "<IPython.core.display.HTML object>"
      ]
     },
     "metadata": {
      "tags": []
     },
     "output_type": "display_data"
    },
    {
     "name": "stdout",
     "output_type": "stream",
     "text": [
      "CPU times: user 16min 16s, sys: 10min 7s, total: 26min 23s\n",
      "Wall time: 26min 9s\n"
     ]
    }
   ],
   "source": [
    "%%time\n",
    "learn.fit_one_cycle(1, 1e-1, moms=(0.8,0.7))"
   ]
  },
  {
   "cell_type": "markdown",
   "metadata": {
    "id": "OMc2qHeHwCrp"
   },
   "source": [
    "Next we'll unfreeze the model, train/fit more, and using callbacks to select the best model.  "
   ]
  },
  {
   "cell_type": "code",
   "execution_count": 14,
   "metadata": {
    "id": "t0WT3sVByhTz"
   },
   "outputs": [],
   "source": [
    "from fastai.callbacks import *"
   ]
  },
  {
   "cell_type": "code",
   "execution_count": 15,
   "metadata": {
    "colab": {
     "base_uri": "https://localhost:8080/"
    },
    "id": "xoMD66sNwBYJ",
    "outputId": "ab591719-1b39-40cc-a720-c6a845f37724"
   },
   "outputs": [
    {
     "name": "stdout",
     "output_type": "stream",
     "text": [
      "CPU times: user 83 µs, sys: 53 µs, total: 136 µs\n",
      "Wall time: 140 µs\n"
     ]
    }
   ],
   "source": [
    "%%time\n",
    "callback = SaveModelCallback(learn,monitor=\"accuracy\", mode=\"max\", name=\"best_lang_model\")"
   ]
  },
  {
   "cell_type": "markdown",
   "metadata": {
    "id": "Zuqm1jUBUry2"
   },
   "source": [
    "Once the initial round of training is completed, we unfreeze the model and continue to fine tune for 4 epochs until I reached an accuracy of 90.9%. That means that in 90% of cases, my model is able to correctly predict the next word. \n",
    "\n",
    "Note that since this is only the language model, and not the classifier, we are using accuracy to evaluate model performance."
   ]
  },
  {
   "cell_type": "code",
   "execution_count": 16,
   "metadata": {
    "id": "HTFttri4wbqN"
   },
   "outputs": [],
   "source": [
    "learn.unfreeze()"
   ]
  },
  {
   "cell_type": "code",
   "execution_count": 17,
   "metadata": {
    "colab": {
     "base_uri": "https://localhost:8080/",
     "height": 275
    },
    "id": "ahSA3uo4wemU",
    "outputId": "c6c1d7a7-2dcf-4ffa-aa11-5a76122be230"
   },
   "outputs": [
    {
     "data": {
      "text/html": [
       "<table border=\"1\" class=\"dataframe\">\n",
       "  <thead>\n",
       "    <tr style=\"text-align: left;\">\n",
       "      <th>epoch</th>\n",
       "      <th>train_loss</th>\n",
       "      <th>valid_loss</th>\n",
       "      <th>accuracy</th>\n",
       "      <th>time</th>\n",
       "    </tr>\n",
       "  </thead>\n",
       "  <tbody>\n",
       "    <tr>\n",
       "      <td>0</td>\n",
       "      <td>0.749731</td>\n",
       "      <td>0.702699</td>\n",
       "      <td>0.876668</td>\n",
       "      <td>30:49</td>\n",
       "    </tr>\n",
       "    <tr>\n",
       "      <td>1</td>\n",
       "      <td>0.641435</td>\n",
       "      <td>0.607698</td>\n",
       "      <td>0.891715</td>\n",
       "      <td>31:03</td>\n",
       "    </tr>\n",
       "    <tr>\n",
       "      <td>2</td>\n",
       "      <td>0.555330</td>\n",
       "      <td>0.528259</td>\n",
       "      <td>0.904311</td>\n",
       "      <td>31:12</td>\n",
       "    </tr>\n",
       "    <tr>\n",
       "      <td>3</td>\n",
       "      <td>0.518325</td>\n",
       "      <td>0.499662</td>\n",
       "      <td>0.909065</td>\n",
       "      <td>31:13</td>\n",
       "    </tr>\n",
       "  </tbody>\n",
       "</table>"
      ],
      "text/plain": [
       "<IPython.core.display.HTML object>"
      ]
     },
     "metadata": {
      "tags": []
     },
     "output_type": "display_data"
    },
    {
     "name": "stdout",
     "output_type": "stream",
     "text": [
      "Better model found at epoch 0 with accuracy value: 0.8766677975654602.\n",
      "Better model found at epoch 1 with accuracy value: 0.8917152285575867.\n",
      "Better model found at epoch 2 with accuracy value: 0.9043110013008118.\n",
      "Better model found at epoch 3 with accuracy value: 0.9090647101402283.\n",
      "CPU times: user 1h 18min 6s, sys: 47min 23s, total: 2h 5min 29s\n",
      "Wall time: 2h 4min 30s\n"
     ]
    }
   ],
   "source": [
    "%%time\n",
    "learn.fit_one_cycle(4, 1e-2, moms=(0.8,0.7), callbacks=[callback])"
   ]
  },
  {
   "cell_type": "markdown",
   "metadata": {
    "id": "iZzX4GtxwuON"
   },
   "source": [
    "Now we save all of our model except the final layer that converts activations to probabilities of picking each token in our vocabulary. The model not including the final layer is called the *encoder*. "
   ]
  },
  {
   "cell_type": "code",
   "execution_count": 18,
   "metadata": {
    "id": "RcHUbcaxwzdP"
   },
   "outputs": [],
   "source": [
    "learn.save('fine_tuned')"
   ]
  },
  {
   "cell_type": "code",
   "execution_count": 19,
   "metadata": {
    "id": "cNM3Hwx9aqp2"
   },
   "outputs": [],
   "source": [
    "learn.save_encoder('fine_tuned_enc')"
   ]
  },
  {
   "cell_type": "markdown",
   "metadata": {
    "id": "ibvM43OSzN95"
   },
   "source": [
    "--------"
   ]
  },
  {
   "cell_type": "markdown",
   "metadata": {
    "id": "l1q1RSVEzNPo"
   },
   "source": [
    "## **Classification Model**"
   ]
  },
  {
   "cell_type": "markdown",
   "metadata": {
    "id": "nVzcZq13zYLx"
   },
   "source": [
    "Now to turn to the task of building our classfier.  \n",
    "\n",
    "The very first step is to specify our test data (creating a databunch just as we have previously) which we will then reference in the subsequent call which does the following:  \n",
    "\n",
    "1. Import data from our training data DataFrame and tell the model to use `abstract` and `title` as input. \n",
    "2. Keep the vocabulary the same as we used in the language model databunch \n",
    "3. Split the training dataset into train/validation sets by random 20/80 percent.\n",
    "4. Specify our labels as the `target` column \n",
    "5. Incorporate our test data `test_datalist` with the `add_test` parameter \n",
    "6. Build the data into a `databunch` with batch size = 64.   \n",
    "\n"
   ]
  },
  {
   "cell_type": "code",
   "execution_count": 20,
   "metadata": {
    "id": "9poNt8DCxxov"
   },
   "outputs": [],
   "source": [
    "test_datalist = TextList.from_df(test, cols=['title','abstract'], vocab=data_lm.vocab)"
   ]
  },
  {
   "cell_type": "code",
   "execution_count": 21,
   "metadata": {
    "colab": {
     "base_uri": "https://localhost:8080/",
     "height": 17
    },
    "id": "GWRD9cxKars8",
    "outputId": "079a6f40-0bfa-4948-de29-a66d97b3ec86"
   },
   "outputs": [
    {
     "data": {
      "text/html": [],
      "text/plain": [
       "<IPython.core.display.HTML object>"
      ]
     },
     "metadata": {
      "tags": []
     },
     "output_type": "display_data"
    },
    {
     "data": {
      "text/html": [],
      "text/plain": [
       "<IPython.core.display.HTML object>"
      ]
     },
     "metadata": {
      "tags": []
     },
     "output_type": "display_data"
    },
    {
     "data": {
      "text/html": [],
      "text/plain": [
       "<IPython.core.display.HTML object>"
      ]
     },
     "metadata": {
      "tags": []
     },
     "output_type": "display_data"
    }
   ],
   "source": [
    "data_clas = (TextList.from_df(train, cols=['title','abstract'], vocab=data_lm.vocab)\n",
    "             .split_by_rand_pct(0.2)\n",
    "             .label_from_df('target')\n",
    "             .add_test(test_datalist)\n",
    "             .databunch(bs=64))"
   ]
  },
  {
   "cell_type": "markdown",
   "metadata": {
    "id": "jDEyDu1H22DP"
   },
   "source": [
    "Let's have a look at the `databunch` we just built for our classification model to see that the tokenization looks okay on the test set.\n"
   ]
  },
  {
   "cell_type": "code",
   "execution_count": 22,
   "metadata": {
    "colab": {
     "base_uri": "https://localhost:8080/",
     "height": 374
    },
    "id": "cg8xLpA53eWH",
    "outputId": "09452922-2297-45cc-8c17-f3db4c079a28"
   },
   "outputs": [
    {
     "data": {
      "text/html": [
       "<table border=\"1\" class=\"dataframe\">\n",
       "  <thead>\n",
       "    <tr style=\"text-align: right;\">\n",
       "      <th>text</th>\n",
       "      <th>target</th>\n",
       "    </tr>\n",
       "  </thead>\n",
       "  <tbody>\n",
       "    <tr>\n",
       "      <td>xxbos xxmaj sex , xxmaj drugs and xxmaj ashton xxmaj kutcher : 10 xxmaj revelations xxmaj from xxmaj demi xxmaj moore 's xxmaj book xxmaj real talk . xxmaj demi xxmaj moore got candid about a variety of topics in her new book , xxmaj inside xxmaj out , including her famous exes , substance abuse struggles and her heartbreaking sexual assault . \" xxmaj the same question kept going</td>\n",
       "      <td>0</td>\n",
       "    </tr>\n",
       "    <tr>\n",
       "      <td>xxbos ' xxmaj yabba xxmaj dabba xxmaj doo ! ' xxmaj kimye and xxmaj kids xxmaj rock xxmaj flintstone xxmaj halloween xxmaj costumes xxmaj fall family fun ! xxmaj kim xxmaj kardashian , xxmaj kanye xxmaj west and their kids went all out with xxunk xxmaj flintstone family costumes for xxmaj halloween . \" xxmaj yabba xxmaj dabba xxmaj doo ! \" the xxmaj keeping xxmaj up xxmaj with the</td>\n",
       "      <td>0</td>\n",
       "    </tr>\n",
       "    <tr>\n",
       "      <td>xxbos ' xxmaj yabba xxmaj dabba xxmaj doo ! ' xxmaj kimye and xxmaj kids xxmaj rock xxmaj flintstone xxmaj halloween xxmaj costumes xxmaj fall family fun ! xxmaj kim xxmaj kardashian , xxmaj kanye xxmaj west and their kids went all out with xxunk xxmaj flintstone family costumes for xxmaj halloween . \" xxmaj yabba xxmaj dabba xxmaj doo ! \" the xxmaj keeping xxmaj up xxmaj with the</td>\n",
       "      <td>0</td>\n",
       "    </tr>\n",
       "    <tr>\n",
       "      <td>xxbos ' xxmaj yabba xxmaj dabba xxmaj doo ! ' xxmaj kimye and xxmaj kids xxmaj rock xxmaj flintstone xxmaj halloween xxmaj costumes xxmaj fall family fun ! xxmaj kim xxmaj kardashian , xxmaj kanye xxmaj west and their kids went all out with xxunk xxmaj flintstone family costumes for xxmaj halloween . \" xxmaj yabba xxmaj dabba xxmaj doo ! \" the xxmaj keeping xxmaj up xxmaj with the</td>\n",
       "      <td>0</td>\n",
       "    </tr>\n",
       "    <tr>\n",
       "      <td>xxbos ' xxmaj yabba xxmaj dabba xxmaj doo ! ' xxmaj kimye and xxmaj kids xxmaj rock xxmaj flintstone xxmaj halloween xxmaj costumes xxmaj fall family fun ! xxmaj kim xxmaj kardashian , xxmaj kanye xxmaj west and their kids went all out with xxunk xxmaj flintstone family costumes for xxmaj halloween . \" xxmaj yabba xxmaj dabba xxmaj doo ! \" the xxmaj keeping xxmaj up xxmaj with the</td>\n",
       "      <td>0</td>\n",
       "    </tr>\n",
       "  </tbody>\n",
       "</table>"
      ],
      "text/plain": [
       "<IPython.core.display.HTML object>"
      ]
     },
     "metadata": {
      "tags": []
     },
     "output_type": "display_data"
    }
   ],
   "source": [
    "## check test set looks ok\n",
    "data_clas.show_batch(ds_type=DatasetType.Test)"
   ]
  },
  {
   "cell_type": "markdown",
   "metadata": {
    "id": "oAX8oHKs3JxN"
   },
   "source": [
    "Now we’ll build the classifier using the same encoder as our language model.   \n",
    "#### Evaluation Metrics \n",
    "Here we al\n",
    "so have the opportunity to specify evaluation metrics. In addition to accuracy, I'm also interested in recall, precision and FBeta. I've set FBeta = 0.5 because, while both precision and recall are important, I put more emphasis on precision than recall - particularlly given the class imbalance and business use case as discussed in the first notebook. Emphasizing precision means punishing false positives more than false negatives. Here, a false positive would be a non-clicked article being labelled as clicked. In the context of a news recommender, this is important because we wouldn't want to show a user and article that they would not click on. "
   ]
  },
  {
   "cell_type": "code",
   "execution_count": 23,
   "metadata": {
    "colab": {
     "base_uri": "https://localhost:8080/"
    },
    "id": "MhSm5dds3KO6",
    "outputId": "0ff51f67-3d99-4f51-9bde-3a86959f393a"
   },
   "outputs": [
    {
     "name": "stdout",
     "output_type": "stream",
     "text": [
      "CPU times: user 869 ms, sys: 194 ms, total: 1.06 s\n",
      "Wall time: 989 ms\n"
     ]
    }
   ],
   "source": [
    "%%time\n",
    "learn = text_classifier_learner(data_clas, AWD_LSTM, drop_mult=0.5, metrics=[accuracy, Recall(), Precision(), FBeta(beta=.5)])\n",
    "\n",
    "learn.load_encoder('fine_tuned_enc')"
   ]
  },
  {
   "cell_type": "markdown",
   "metadata": {},
   "source": [
    "Once again we look for the optimal learning rate for our initial round of training."
   ]
  },
  {
   "cell_type": "code",
   "execution_count": 24,
   "metadata": {
    "colab": {
     "base_uri": "https://localhost:8080/",
     "height": 146
    },
    "id": "eoDo7TW732nw",
    "outputId": "9c119b3a-f73f-4d1e-8db7-ade647781545"
   },
   "outputs": [
    {
     "data": {
      "text/html": [
       "\n",
       "    <div>\n",
       "        <style>\n",
       "            /* Turns off some styling */\n",
       "            progress {\n",
       "                /* gets rid of default border in Firefox and Opera. */\n",
       "                border: none;\n",
       "                /* Needs to be in here for Safari polyfill so background images work as expected. */\n",
       "                background-size: auto;\n",
       "            }\n",
       "            .progress-bar-interrupted, .progress-bar-interrupted::-webkit-progress-bar {\n",
       "                background: #F44336;\n",
       "            }\n",
       "        </style>\n",
       "      <progress value='0' class='' max='1' style='width:300px; height:20px; vertical-align: middle;'></progress>\n",
       "      0.00% [0/1 00:00<00:00]\n",
       "    </div>\n",
       "    \n",
       "<table border=\"1\" class=\"dataframe\">\n",
       "  <thead>\n",
       "    <tr style=\"text-align: left;\">\n",
       "      <th>epoch</th>\n",
       "      <th>train_loss</th>\n",
       "      <th>valid_loss</th>\n",
       "      <th>accuracy</th>\n",
       "      <th>recall</th>\n",
       "      <th>precision</th>\n",
       "      <th>f_beta</th>\n",
       "      <th>time</th>\n",
       "    </tr>\n",
       "  </thead>\n",
       "  <tbody>\n",
       "  </tbody>\n",
       "</table><p>\n",
       "\n",
       "    <div>\n",
       "        <style>\n",
       "            /* Turns off some styling */\n",
       "            progress {\n",
       "                /* gets rid of default border in Firefox and Opera. */\n",
       "                border: none;\n",
       "                /* Needs to be in here for Safari polyfill so background images work as expected. */\n",
       "                background-size: auto;\n",
       "            }\n",
       "            .progress-bar-interrupted, .progress-bar-interrupted::-webkit-progress-bar {\n",
       "                background: #F44336;\n",
       "            }\n",
       "        </style>\n",
       "      <progress value='93' class='' max='58949' style='width:300px; height:20px; vertical-align: middle;'></progress>\n",
       "      0.16% [93/58949 02:05<22:05:48 1.7612]\n",
       "    </div>\n",
       "    "
      ],
      "text/plain": [
       "<IPython.core.display.HTML object>"
      ]
     },
     "metadata": {
      "tags": []
     },
     "output_type": "display_data"
    },
    {
     "name": "stdout",
     "output_type": "stream",
     "text": [
      "LR Finder is complete, type {learner_name}.recorder.plot() to see the graph.\n",
      "CPU times: user 2min 4s, sys: 4.41 s, total: 2min 8s\n",
      "Wall time: 2min 6s\n"
     ]
    }
   ],
   "source": [
    "%%time\n",
    "learn.lr_find()"
   ]
  },
  {
   "cell_type": "code",
   "execution_count": 25,
   "metadata": {
    "colab": {
     "base_uri": "https://localhost:8080/",
     "height": 350
    },
    "id": "LGtJ2cCjmkJw",
    "outputId": "f0a933ef-a61b-40aa-f5ab-550cf52704be"
   },
   "outputs": [
    {
     "name": "stdout",
     "output_type": "stream",
     "text": [
      "Min numerical gradient: 1.20E-01\n",
      "Min loss divided by 10: 3.63E-02\n",
      "CPU times: user 17.6 ms, sys: 1.52 ms, total: 19.1 ms\n",
      "Wall time: 18.5 ms\n"
     ]
    },
    {
     "data": {
      "image/png": "[encoded data removed]",
      "text/plain": [
       "<Figure size 432x288 with 1 Axes>"
      ]
     },
     "metadata": {
      "needs_background": "light",
      "tags": []
     },
     "output_type": "display_data"
    }
   ],
   "source": [
    "%%time\n",
    "learn.recorder.plot(suggestion=True)"
   ]
  },
  {
   "cell_type": "code",
   "execution_count": 26,
   "metadata": {
    "colab": {
     "base_uri": "https://localhost:8080/",
     "height": 80
    },
    "id": "dqiZCAYM4IZt",
    "outputId": "3d22d1d7-5fb2-4ddd-bb1c-0bd6dc35982f"
   },
   "outputs": [
    {
     "data": {
      "text/html": [
       "<table border=\"1\" class=\"dataframe\">\n",
       "  <thead>\n",
       "    <tr style=\"text-align: left;\">\n",
       "      <th>epoch</th>\n",
       "      <th>train_loss</th>\n",
       "      <th>valid_loss</th>\n",
       "      <th>accuracy</th>\n",
       "      <th>recall</th>\n",
       "      <th>precision</th>\n",
       "      <th>f_beta</th>\n",
       "      <th>time</th>\n",
       "    </tr>\n",
       "  </thead>\n",
       "  <tbody>\n",
       "    <tr>\n",
       "      <td>0</td>\n",
       "      <td>0.401630</td>\n",
       "      <td>0.379245</td>\n",
       "      <td>0.833395</td>\n",
       "      <td>0.190381</td>\n",
       "      <td>0.812964</td>\n",
       "      <td>0.491502</td>\n",
       "      <td>31:30</td>\n",
       "    </tr>\n",
       "  </tbody>\n",
       "</table>"
      ],
      "text/plain": [
       "<IPython.core.display.HTML object>"
      ]
     },
     "metadata": {
      "tags": []
     },
     "output_type": "display_data"
    }
   ],
   "source": [
    "learn.fit_one_cycle(1, 1e-01, moms=(0.8,0.7))"
   ]
  },
  {
   "cell_type": "markdown",
   "metadata": {
    "id": "G7Cf8MwBYlv7"
   },
   "source": [
    "Now we unfreeze the last 2 layers and train for one cycle - this gives a huge boost to all of our evaluation metrics."
   ]
  },
  {
   "cell_type": "code",
   "execution_count": 27,
   "metadata": {
    "colab": {
     "base_uri": "https://localhost:8080/",
     "height": 80
    },
    "id": "OjE0ad4d4LRZ",
    "outputId": "73173324-2b5a-4682-e059-f5913d46a546"
   },
   "outputs": [
    {
     "data": {
      "text/html": [
       "<table border=\"1\" class=\"dataframe\">\n",
       "  <thead>\n",
       "    <tr style=\"text-align: left;\">\n",
       "      <th>epoch</th>\n",
       "      <th>train_loss</th>\n",
       "      <th>valid_loss</th>\n",
       "      <th>accuracy</th>\n",
       "      <th>recall</th>\n",
       "      <th>precision</th>\n",
       "      <th>f_beta</th>\n",
       "      <th>time</th>\n",
       "    </tr>\n",
       "  </thead>\n",
       "  <tbody>\n",
       "    <tr>\n",
       "      <td>0</td>\n",
       "      <td>0.224567</td>\n",
       "      <td>0.189299</td>\n",
       "      <td>0.942594</td>\n",
       "      <td>0.735672</td>\n",
       "      <td>0.961159</td>\n",
       "      <td>0.905642</td>\n",
       "      <td>35:41</td>\n",
       "    </tr>\n",
       "  </tbody>\n",
       "</table>"
      ],
      "text/plain": [
       "<IPython.core.display.HTML object>"
      ]
     },
     "metadata": {
      "tags": []
     },
     "output_type": "display_data"
    }
   ],
   "source": [
    "learn.freeze_to(-2)\n",
    "learn.fit_one_cycle(1, slice(1e-3/(2.6**4),1e-2), moms=(0.8,0.7))"
   ]
  },
  {
   "cell_type": "markdown",
   "metadata": {
    "id": "FpaI0sJvM5gc"
   },
   "source": [
    "Unfreeze the last 3 layers now and train again for one more cyle."
   ]
  },
  {
   "cell_type": "code",
   "execution_count": 28,
   "metadata": {
    "colab": {
     "base_uri": "https://localhost:8080/",
     "height": 80
    },
    "id": "yIaB7GgI4N-o",
    "outputId": "425e408f-f60e-4002-c865-84bb721c9fe1"
   },
   "outputs": [
    {
     "data": {
      "text/html": [
       "<table border=\"1\" class=\"dataframe\">\n",
       "  <thead>\n",
       "    <tr style=\"text-align: left;\">\n",
       "      <th>epoch</th>\n",
       "      <th>train_loss</th>\n",
       "      <th>valid_loss</th>\n",
       "      <th>accuracy</th>\n",
       "      <th>recall</th>\n",
       "      <th>precision</th>\n",
       "      <th>f_beta</th>\n",
       "      <th>time</th>\n",
       "    </tr>\n",
       "  </thead>\n",
       "  <tbody>\n",
       "    <tr>\n",
       "      <td>0</td>\n",
       "      <td>0.276522</td>\n",
       "      <td>0.188588</td>\n",
       "      <td>0.943253</td>\n",
       "      <td>0.736519</td>\n",
       "      <td>0.964380</td>\n",
       "      <td>0.908186</td>\n",
       "      <td>54:20</td>\n",
       "    </tr>\n",
       "  </tbody>\n",
       "</table>"
      ],
      "text/plain": [
       "<IPython.core.display.HTML object>"
      ]
     },
     "metadata": {
      "tags": []
     },
     "output_type": "display_data"
    }
   ],
   "source": [
    "learn.freeze_to(-3)\n",
    "learn.fit_one_cycle(1, slice(5e-3/(2.6**4),5e-3), moms=(0.8,0.7))"
   ]
  },
  {
   "cell_type": "markdown",
   "metadata": {
    "id": "EHa81yQD4Tcy"
   },
   "source": [
    "Now we will use callbacks to select the best classification model out of the given epochs in the subsequent fine tuning."
   ]
  },
  {
   "cell_type": "code",
   "execution_count": 29,
   "metadata": {
    "id": "se2xWIzY4Rg6"
   },
   "outputs": [],
   "source": [
    "callbacks = SaveModelCallback(learn, monitor=\"Precision\", mode=\"max\", name=\"best_classification_model\")"
   ]
  },
  {
   "cell_type": "markdown",
   "metadata": {},
   "source": [
    "But first, here's a glimpse of our results at this point."
   ]
  },
  {
   "cell_type": "code",
   "execution_count": 30,
   "metadata": {
    "colab": {
     "base_uri": "https://localhost:8080/",
     "height": 374
    },
    "id": "8sNr1T98Nav5",
    "outputId": "bfac236e-bba7-4708-8247-0d077e858f34"
   },
   "outputs": [
    {
     "data": {
      "text/html": [
       "<table border=\"1\" class=\"dataframe\">\n",
       "  <thead>\n",
       "    <tr style=\"text-align: right;\">\n",
       "      <th>text</th>\n",
       "      <th>target</th>\n",
       "      <th>prediction</th>\n",
       "    </tr>\n",
       "  </thead>\n",
       "  <tbody>\n",
       "    <tr>\n",
       "      <td>xxbos xxmaj sex , xxmaj drugs and xxmaj ashton xxmaj kutcher : 10 xxmaj revelations xxmaj from xxmaj demi xxmaj moore 's xxmaj book xxmaj real talk . xxmaj demi xxmaj moore got candid about a variety of topics in her new book , xxmaj inside xxmaj out , including her famous exes , substance abuse struggles and her heartbreaking sexual assault . \" xxmaj the same question kept going</td>\n",
       "      <td>1</td>\n",
       "      <td>0</td>\n",
       "    </tr>\n",
       "    <tr>\n",
       "      <td>xxbos ' xxmaj yabba xxmaj dabba xxmaj doo ! ' xxmaj kimye and xxmaj kids xxmaj rock xxmaj flintstone xxmaj halloween xxmaj costumes xxmaj fall family fun ! xxmaj kim xxmaj kardashian , xxmaj kanye xxmaj west and their kids went all out with xxunk xxmaj flintstone family costumes for xxmaj halloween . \" xxmaj yabba xxmaj dabba xxmaj doo ! \" the xxmaj keeping xxmaj up xxmaj with the</td>\n",
       "      <td>1</td>\n",
       "      <td>1</td>\n",
       "    </tr>\n",
       "    <tr>\n",
       "      <td>xxbos ' xxmaj yabba xxmaj dabba xxmaj doo ! ' xxmaj kimye and xxmaj kids xxmaj rock xxmaj flintstone xxmaj halloween xxmaj costumes xxmaj fall family fun ! xxmaj kim xxmaj kardashian , xxmaj kanye xxmaj west and their kids went all out with xxunk xxmaj flintstone family costumes for xxmaj halloween . \" xxmaj yabba xxmaj dabba xxmaj doo ! \" the xxmaj keeping xxmaj up xxmaj with the</td>\n",
       "      <td>1</td>\n",
       "      <td>1</td>\n",
       "    </tr>\n",
       "    <tr>\n",
       "      <td>xxbos ' xxmaj yabba xxmaj dabba xxmaj doo ! ' xxmaj kimye and xxmaj kids xxmaj rock xxmaj flintstone xxmaj halloween xxmaj costumes xxmaj fall family fun ! xxmaj kim xxmaj kardashian , xxmaj kanye xxmaj west and their kids went all out with xxunk xxmaj flintstone family costumes for xxmaj halloween . \" xxmaj yabba xxmaj dabba xxmaj doo ! \" the xxmaj keeping xxmaj up xxmaj with the</td>\n",
       "      <td>1</td>\n",
       "      <td>1</td>\n",
       "    </tr>\n",
       "    <tr>\n",
       "      <td>xxbos ' xxmaj yabba xxmaj dabba xxmaj doo ! ' xxmaj kimye and xxmaj kids xxmaj rock xxmaj flintstone xxmaj halloween xxmaj costumes xxmaj fall family fun ! xxmaj kim xxmaj kardashian , xxmaj kanye xxmaj west and their kids went all out with xxunk xxmaj flintstone family costumes for xxmaj halloween . \" xxmaj yabba xxmaj dabba xxmaj doo ! \" the xxmaj keeping xxmaj up xxmaj with the</td>\n",
       "      <td>1</td>\n",
       "      <td>1</td>\n",
       "    </tr>\n",
       "  </tbody>\n",
       "</table>"
      ],
      "text/plain": [
       "<IPython.core.display.HTML object>"
      ]
     },
     "metadata": {
      "tags": []
     },
     "output_type": "display_data"
    }
   ],
   "source": [
    "learn.show_results()"
   ]
  },
  {
   "cell_type": "markdown",
   "metadata": {
    "id": "H9hwoAcz4War"
   },
   "source": [
    "For the final fine tuning we unfreeze all the layers and train for 3 epochs. Having already reached very high performance in previous training rounds, improvements here are somewhat marginal."
   ]
  },
  {
   "cell_type": "code",
   "execution_count": 31,
   "metadata": {
    "colab": {
     "base_uri": "https://localhost:8080/",
     "height": 142
    },
    "id": "qEHeaPbi4Xrn",
    "outputId": "48f2137b-de66-482b-f53d-2343df58815a"
   },
   "outputs": [
    {
     "data": {
      "text/html": [
       "<table border=\"1\" class=\"dataframe\">\n",
       "  <thead>\n",
       "    <tr style=\"text-align: left;\">\n",
       "      <th>epoch</th>\n",
       "      <th>train_loss</th>\n",
       "      <th>valid_loss</th>\n",
       "      <th>accuracy</th>\n",
       "      <th>recall</th>\n",
       "      <th>precision</th>\n",
       "      <th>f_beta</th>\n",
       "      <th>time</th>\n",
       "    </tr>\n",
       "  </thead>\n",
       "  <tbody>\n",
       "    <tr>\n",
       "      <td>0</td>\n",
       "      <td>0.264991</td>\n",
       "      <td>0.190445</td>\n",
       "      <td>0.942365</td>\n",
       "      <td>0.743460</td>\n",
       "      <td>0.950534</td>\n",
       "      <td>0.900378</td>\n",
       "      <td>1:15:48</td>\n",
       "    </tr>\n",
       "    <tr>\n",
       "      <td>1</td>\n",
       "      <td>0.222628</td>\n",
       "      <td>0.187756</td>\n",
       "      <td>0.943670</td>\n",
       "      <td>0.741195</td>\n",
       "      <td>0.961424</td>\n",
       "      <td>0.907496</td>\n",
       "      <td>1:19:02</td>\n",
       "    </tr>\n",
       "    <tr>\n",
       "      <td>2</td>\n",
       "      <td>0.191943</td>\n",
       "      <td>0.184952</td>\n",
       "      <td>0.944512</td>\n",
       "      <td>0.742678</td>\n",
       "      <td>0.965033</td>\n",
       "      <td>0.910512</td>\n",
       "      <td>1:13:43</td>\n",
       "    </tr>\n",
       "  </tbody>\n",
       "</table>"
      ],
      "text/plain": [
       "<IPython.core.display.HTML object>"
      ]
     },
     "metadata": {
      "tags": []
     },
     "output_type": "display_data"
    }
   ],
   "source": [
    "learn.unfreeze()\n",
    "learn.fit_one_cycle(3, slice(1e-3/(2.6**4),1e-3), moms=(0.8,0.7), callbacks=[callbacks])"
   ]
  },
  {
   "cell_type": "code",
   "execution_count": 33,
   "metadata": {
    "id": "Q3ukQkd_D2sN"
   },
   "outputs": [],
   "source": [
    "# Export the model and save it for inference\n",
    "learn.export(\"user_news_classifier.pkl\")"
   ]
  },
  {
   "cell_type": "code",
   "execution_count": 35,
   "metadata": {
    "colab": {
     "base_uri": "https://localhost:8080/",
     "height": 374
    },
    "id": "vkpHYAKJKWrZ",
    "outputId": "1b1fa492-ad68-4748-e213-db2968918a4e"
   },
   "outputs": [
    {
     "data": {
      "text/html": [
       "<table border=\"1\" class=\"dataframe\">\n",
       "  <thead>\n",
       "    <tr style=\"text-align: right;\">\n",
       "      <th>text</th>\n",
       "      <th>target</th>\n",
       "      <th>prediction</th>\n",
       "    </tr>\n",
       "  </thead>\n",
       "  <tbody>\n",
       "    <tr>\n",
       "      <td>xxbos xxmaj sex , xxmaj drugs and xxmaj ashton xxmaj kutcher : 10 xxmaj revelations xxmaj from xxmaj demi xxmaj moore 's xxmaj book xxmaj real talk . xxmaj demi xxmaj moore got candid about a variety of topics in her new book , xxmaj inside xxmaj out , including her famous exes , substance abuse struggles and her heartbreaking sexual assault . \" xxmaj the same question kept going</td>\n",
       "      <td>1</td>\n",
       "      <td>0</td>\n",
       "    </tr>\n",
       "    <tr>\n",
       "      <td>xxbos ' xxmaj yabba xxmaj dabba xxmaj doo ! ' xxmaj kimye and xxmaj kids xxmaj rock xxmaj flintstone xxmaj halloween xxmaj costumes xxmaj fall family fun ! xxmaj kim xxmaj kardashian , xxmaj kanye xxmaj west and their kids went all out with xxunk xxmaj flintstone family costumes for xxmaj halloween . \" xxmaj yabba xxmaj dabba xxmaj doo ! \" the xxmaj keeping xxmaj up xxmaj with the</td>\n",
       "      <td>1</td>\n",
       "      <td>1</td>\n",
       "    </tr>\n",
       "    <tr>\n",
       "      <td>xxbos ' xxmaj yabba xxmaj dabba xxmaj doo ! ' xxmaj kimye and xxmaj kids xxmaj rock xxmaj flintstone xxmaj halloween xxmaj costumes xxmaj fall family fun ! xxmaj kim xxmaj kardashian , xxmaj kanye xxmaj west and their kids went all out with xxunk xxmaj flintstone family costumes for xxmaj halloween . \" xxmaj yabba xxmaj dabba xxmaj doo ! \" the xxmaj keeping xxmaj up xxmaj with the</td>\n",
       "      <td>1</td>\n",
       "      <td>1</td>\n",
       "    </tr>\n",
       "    <tr>\n",
       "      <td>xxbos ' xxmaj yabba xxmaj dabba xxmaj doo ! ' xxmaj kimye and xxmaj kids xxmaj rock xxmaj flintstone xxmaj halloween xxmaj costumes xxmaj fall family fun ! xxmaj kim xxmaj kardashian , xxmaj kanye xxmaj west and their kids went all out with xxunk xxmaj flintstone family costumes for xxmaj halloween . \" xxmaj yabba xxmaj dabba xxmaj doo ! \" the xxmaj keeping xxmaj up xxmaj with the</td>\n",
       "      <td>1</td>\n",
       "      <td>1</td>\n",
       "    </tr>\n",
       "    <tr>\n",
       "      <td>xxbos ' xxmaj yabba xxmaj dabba xxmaj doo ! ' xxmaj kimye and xxmaj kids xxmaj rock xxmaj flintstone xxmaj halloween xxmaj costumes xxmaj fall family fun ! xxmaj kim xxmaj kardashian , xxmaj kanye xxmaj west and their kids went all out with xxunk xxmaj flintstone family costumes for xxmaj halloween . \" xxmaj yabba xxmaj dabba xxmaj doo ! \" the xxmaj keeping xxmaj up xxmaj with the</td>\n",
       "      <td>1</td>\n",
       "      <td>1</td>\n",
       "    </tr>\n",
       "  </tbody>\n",
       "</table>"
      ],
      "text/plain": [
       "<IPython.core.display.HTML object>"
      ]
     },
     "metadata": {
      "tags": []
     },
     "output_type": "display_data"
    }
   ],
   "source": [
    "learn.show_results()"
   ]
  },
  {
   "cell_type": "markdown",
   "metadata": {},
   "source": [
    "## Model Performance\n",
    "\n",
    "With a final precision score of 96.5% our model is performing very well. Looking at the final model's confusion matrix, however, we see that much of this performance is still being driven by the majority ('no click') class. 26% of 'clicked' articles are still being mis-labelled as not clicked. While we have not prioritized recall as an evaluation metric, ideally in future work, we would be able to arrive at even higher scores than what we have produced here. One key element would be to take additional steps to ensure proportional class representation within FastAI's train-validation split within the classifier. This functionality is not built into the FastAI, however, with additional time, it would likely be possible to work around this using sklearn. "
   ]
  },
  {
   "cell_type": "code",
   "execution_count": 36,
   "metadata": {
    "colab": {
     "base_uri": "https://localhost:8080/",
     "height": 311
    },
    "id": "Arzbobi1qKO9",
    "outputId": "fc14dfc3-2603-4b7b-d859-c2e4c383c08a"
   },
   "outputs": [
    {
     "data": {
      "text/html": [],
      "text/plain": [
       "<IPython.core.display.HTML object>"
      ]
     },
     "metadata": {
      "tags": []
     },
     "output_type": "display_data"
    },
    {
     "data": {
      "image/png": "[encoded data removed]",
      "text/plain": [
       "<Figure size 432x288 with 1 Axes>"
      ]
     },
     "metadata": {
      "needs_background": "light",
      "tags": []
     },
     "output_type": "display_data"
    }
   ],
   "source": [
    "preds,y,losses = learn.get_preds(with_loss=True)\n",
    "interp = ClassificationInterpretation(learn, preds, y, losses)\n",
    "interp.plot_confusion_matrix()"
   ]
  },
  {
   "cell_type": "code",
   "execution_count": 42,
   "metadata": {
    "colab": {
     "base_uri": "https://localhost:8080/",
     "height": 311
    },
    "id": "_uA_BdC_uXIh",
    "outputId": "1995d773-38f9-41cf-911a-cd7ff21243c3"
   },
   "outputs": [
    {
     "data": {
      "image/png": "[encoded data removed]",
      "text/plain": [
       "<Figure size 432x288 with 1 Axes>"
      ]
     },
     "metadata": {
      "needs_background": "light",
      "tags": []
     },
     "output_type": "display_data"
    }
   ],
   "source": [
    "conf_matrix = interp.plot_confusion_matrix(normalize=True, title=\"Final Model Confusion Matrix\", return_fig=True)"
   ]
  },
  {
   "cell_type": "code",
   "execution_count": 44,
   "metadata": {
    "id": "0QwLpsOSvJhs"
   },
   "outputs": [],
   "source": [
    "conf_matrix.savefig('conf_matrix.png')"
   ]
  }
 ],
 "metadata": {
  "accelerator": "GPU",
  "colab": {
   "collapsed_sections": [],
   "machine_shape": "hm",
   "name": "re_run_title_plus_abstract_news_recommender.ipynb",
   "provenance": [],
   "toc_visible": true
  },
  "kernelspec": {
   "display_name": "Python 3",
   "language": "python",
   "name": "python3"
  },
  "language_info": {
   "codemirror_mode": {
    "name": "ipython",
    "version": 3
   },
   "file_extension": ".py",
   "mimetype": "text/x-python",
   "name": "python",
   "nbconvert_exporter": "python",
   "pygments_lexer": "ipython3",
   "version": "3.8.3"
  }
 },
 "nbformat": 4,
 "nbformat_minor": 1
}
